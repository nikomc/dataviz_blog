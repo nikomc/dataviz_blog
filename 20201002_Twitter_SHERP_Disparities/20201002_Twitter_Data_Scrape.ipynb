{
 "cells": [
  {
   "cell_type": "markdown",
   "metadata": {},
   "source": [
    "The goal of this notebook is to scrape data from the SHERP Twitter list. Specifically, I want to go through each user on that list, and collect publicly available information (such as followers, retweets, etc.). I will then analyze that data to see which users stand out, and whether there are disparities in the data."
   ]
  },
  {
   "cell_type": "code",
   "execution_count": 30,
   "metadata": {},
   "outputs": [],
   "source": [
    "import csv\n",
    "import tweepy"
   ]
  },
  {
   "cell_type": "code",
   "execution_count": 19,
   "metadata": {},
   "outputs": [],
   "source": [
    "consumer_key = ''\n",
    "consumer_secret = ''\n",
    "access_token = ''\n",
    "access_token_secret = ''"
   ]
  },
  {
   "cell_type": "code",
   "execution_count": 20,
   "metadata": {},
   "outputs": [
    {
     "name": "stdout",
     "output_type": "stream",
     "text": [
      "RT @ayeletw: In July, a stranger broke into our home and attempted to assault me. I wrote an essay about the incident and about the dilemma…\n",
      "Honestly a mantra we should all live by\n",
      "Lots of scrubs this week, eh?\n",
      "OMG I shouldn't have tweeted\n",
      "Excellent graphic: Where Trump went (and who he was with) leading up to his coronavirus diagnosis https://t.co/B7KxZvX0PE via @politico\n",
      ".@tomfriedman making so much sense on @CNN.\n",
      "\"a case study in irresponsibility and mismanagement\" https://t.co/uOWVqKKCp9\n",
      "Joan Marks saw a glaring need for counselors to help families face the complex emotional, ethical and legal issues… https://t.co/2PDRQhpFmU\n",
      "Conspiracy theories like QAnon blossom in trying times, but today they are supercharged by the tools of our hyperco… https://t.co/vAhTcCGosE\n",
      "“Follow the science,” Chris Wallace said. “If I could say one thing to all of the people out there watching: Forget… https://t.co/TPQrW3mJ5b\n",
      "RT @kenvogel: NOTABLE: The lead reporter on this @nytimes story chronicling Covid's spread through TRUMP's inner circle to @POTUS is @shear…\n",
      "The above photo, taken by @somogettynews, is from Saturday's Rose Garden event for Amy Barrett. The red arrows (fro… https://t.co/v3IXSJDID8\n",
      "The real tragedy of the #SARSCoV2 outbreak in the White House is that our leaders recklessly created the \"just a fl… https://t.co/Kg7WNzM4zv\n",
      "46,459 new #covid19 cases in the United States yesterday https://t.co/64ARaNp8Ig\n",
      "RT @7homaslin: For the 70+% of you who didn't know @QuantaMagazine has a YouTube channel: https://t.co/kagJaJhn57\n",
      "\n",
      "Freeman Dyson: https://t…\n",
      "California is poised to hit a fearsome milestone: 4 million acres burned this year by wildfires that have killed 31… https://t.co/ZKJNUNuhEW\n",
      "In a Review in Nature, @florian_krammer reviews the status of COVID-19 vaccine development, concluding that effecti… https://t.co/vGMl2sYZ7w\n",
      "RT @BrentSpiner: Brent Spiner\n",
      "Lay in a course for a fundraiser that’s out of this world. Join me, Star Trek cast, and Trekkies - @StaceyAbr…\n",
      "RT @ArmstrongDrew: Fantastic explainer about the antibody treatment Trump is getting: https://t.co/wFGTt6UExT\n"
     ]
    }
   ],
   "source": [
    "auth = tweepy.OAuthHandler(consumer_key, consumer_secret)\n",
    "auth.set_access_token(access_token, access_token_secret)\n",
    "\n",
    "api = tweepy.API(auth, wait_on_rate_limit=True, wait_on_rate_limit_notify=True)\n",
    "\n",
    "public_tweets = api.home_timeline()\n",
    "for tweet in public_tweets:\n",
    "    print(tweet.text)"
   ]
  },
  {
   "cell_type": "code",
   "execution_count": 21,
   "metadata": {},
   "outputs": [],
   "source": [
    "slug = 'SHERP-Tweeters'\n",
    "list_owner = 'danfagin'"
   ]
  },
  {
   "cell_type": "markdown",
   "metadata": {},
   "source": [
    "**Code below is adapted from: https://gist.github.com/macloo/5c69cdf5294fa97eb41d6ad950233cee"
   ]
  },
  {
   "cell_type": "code",
   "execution_count": 43,
   "metadata": {},
   "outputs": [],
   "source": [
    "def get_list_members(api, owner, slug):\n",
    "    members = []\n",
    "    # without this you only get the first 20 list members\n",
    "    for page in tweepy.Cursor(api.list_members, owner, slug).items():\n",
    "        members.append(page)\n",
    "    # create a list containing all usernames\n",
    "    return [ m.screen_name for m in members ]"
   ]
  },
  {
   "cell_type": "code",
   "execution_count": 44,
   "metadata": {},
   "outputs": [],
   "source": [
    "# create new CSV file and add column headings\n",
    "def create_csv(filename, usernames):\n",
    "    csvfile = open(filename, 'w')\n",
    "    c = csv.writer(csvfile)\n",
    "    # write the header row for CSV file\n",
    "    c.writerow( [ \"name\",\n",
    "                \"display_name\",\n",
    "                \"bio\",\n",
    "                \"favorites_count\",\n",
    "                \"followers_count\",\n",
    "                \"list_memberships\",\n",
    "                \"tweets_retweets_count\",\n",
    "                \"following_count\",\n",
    "                \"acct_created\",\n",
    "                \"location\" ] )\n",
    "    # add each member to the csv\n",
    "    for name in usernames:\n",
    "        user_info = get_userinfo(name)\n",
    "        c.writerow( user_info )\n",
    "    # close and save the CSV\n",
    "    csvfile.close()"
   ]
  },
  {
   "cell_type": "code",
   "execution_count": 45,
   "metadata": {},
   "outputs": [],
   "source": [
    "def get_userinfo(name):\n",
    "    # get all user data via a Tweepy API call\n",
    "    user = api.get_user(screen_name = name)\n",
    "    # create row data as a list\n",
    "    # I am collecting info based on Twitter API: https://developer.twitter.com/en/docs/twitter-api/v1/data-dictionary/overview/user-object\n",
    "    user_info = [ name.encode('utf-8'),\n",
    "                user.name.encode('utf-8'),\n",
    "                user.description.encode('utf-8'),\n",
    "                user.favourites_count,\n",
    "                user.followers_count,\n",
    "                user.listed_count,\n",
    "                user.statuses_count,\n",
    "                user.friends_count,\n",
    "                user.created_at,\n",
    "user.location.encode('utf-8') ]\n",
    "    # send that one row back\n",
    "    return user_info"
   ]
  },
  {
   "cell_type": "code",
   "execution_count": 47,
   "metadata": {},
   "outputs": [],
   "source": [
    "def main():\n",
    "    # provide name for new CSV\n",
    "    filename = \"SHERP_tweeter_data.csv\"\n",
    "    # create list of all members of the Twitter list\n",
    "    usernames = get_list_members(api, list_owner, slug)\n",
    "    # create new CSV and fill it\n",
    "    create_csv(filename, usernames)\n",
    "    # tell us how many we got\n",
    "    print(\"Number of rows should be %d, plus the header row.\" % len(usernames))"
   ]
  },
  {
   "cell_type": "code",
   "execution_count": 48,
   "metadata": {},
   "outputs": [
    {
     "name": "stdout",
     "output_type": "stream",
     "text": [
      "Number of rows should be 268, plus the header row.\n"
     ]
    }
   ],
   "source": [
    "if __name__ == '__main__':\n",
    "    main()"
   ]
  },
  {
   "cell_type": "code",
   "execution_count": null,
   "metadata": {},
   "outputs": [],
   "source": []
  }
 ],
 "metadata": {
  "kernelspec": {
   "display_name": "Python 3",
   "language": "python",
   "name": "python3"
  },
  "language_info": {
   "codemirror_mode": {
    "name": "ipython",
    "version": 3
   },
   "file_extension": ".py",
   "mimetype": "text/x-python",
   "name": "python",
   "nbconvert_exporter": "python",
   "pygments_lexer": "ipython3",
   "version": "3.7.6"
  }
 },
 "nbformat": 4,
 "nbformat_minor": 4
}
