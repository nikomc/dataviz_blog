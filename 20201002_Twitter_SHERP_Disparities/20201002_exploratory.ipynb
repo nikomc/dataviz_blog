{
 "cells": [
  {
   "cell_type": "code",
   "execution_count": 2,
   "metadata": {},
   "outputs": [],
   "source": [
    "import numpy as np\n",
    "import pandas as pd\n",
    "import seaborn as sns\n",
    "\n",
    "import matplotlib.pyplot as plt\n",
    "sns.set_theme(style=\"whitegrid\")"
   ]
  },
  {
   "cell_type": "code",
   "execution_count": 3,
   "metadata": {},
   "outputs": [],
   "source": [
    "df = pd.read_csv('SHERP_tweeter_data_clean.csv')"
   ]
  },
  {
   "cell_type": "code",
   "execution_count": null,
   "metadata": {},
   "outputs": [],
   "source": [
    "df2 = pd.read_csv('')"
   ]
  },
  {
   "cell_type": "code",
   "execution_count": 4,
   "metadata": {},
   "outputs": [
    {
     "data": {
      "text/html": [
       "<div>\n",
       "<style scoped>\n",
       "    .dataframe tbody tr th:only-of-type {\n",
       "        vertical-align: middle;\n",
       "    }\n",
       "\n",
       "    .dataframe tbody tr th {\n",
       "        vertical-align: top;\n",
       "    }\n",
       "\n",
       "    .dataframe thead th {\n",
       "        text-align: right;\n",
       "    }\n",
       "</style>\n",
       "<table border=\"1\" class=\"dataframe\">\n",
       "  <thead>\n",
       "    <tr style=\"text-align: right;\">\n",
       "      <th></th>\n",
       "      <th>gender</th>\n",
       "      <th>name</th>\n",
       "      <th>display_name</th>\n",
       "      <th>bio</th>\n",
       "      <th>favorites_count</th>\n",
       "      <th>followers_count</th>\n",
       "      <th>list_memberships</th>\n",
       "      <th>tweets_retweets_count</th>\n",
       "      <th>following_count</th>\n",
       "      <th>acct_created</th>\n",
       "      <th>location</th>\n",
       "    </tr>\n",
       "  </thead>\n",
       "  <tbody>\n",
       "    <tr>\n",
       "      <th>0</th>\n",
       "      <td>f</td>\n",
       "      <td>BijalPTrivedi</td>\n",
       "      <td>Bijal P Trivedi</td>\n",
       "      <td>Science journalist, author of Breath from Salt...</td>\n",
       "      <td>0</td>\n",
       "      <td>7</td>\n",
       "      <td>1</td>\n",
       "      <td>1</td>\n",
       "      <td>5</td>\n",
       "      <td>9/8/2020 21:43</td>\n",
       "      <td>Washington DC</td>\n",
       "    </tr>\n",
       "    <tr>\n",
       "      <th>1</th>\n",
       "      <td>m</td>\n",
       "      <td>AbeMusselman</td>\n",
       "      <td>Abe Musselman</td>\n",
       "      <td>Science writer and science reader. SHERP 39. H...</td>\n",
       "      <td>180</td>\n",
       "      <td>34</td>\n",
       "      <td>1</td>\n",
       "      <td>23</td>\n",
       "      <td>83</td>\n",
       "      <td>3/9/2020 23:00</td>\n",
       "      <td>NaN</td>\n",
       "    </tr>\n",
       "    <tr>\n",
       "      <th>2</th>\n",
       "      <td>f</td>\n",
       "      <td>casey_crownhart</td>\n",
       "      <td>Casey Crownhart</td>\n",
       "      <td>Reader, writer, plant mom \\xf0\\x9f\\x8c\\xb1 SHE...</td>\n",
       "      <td>169</td>\n",
       "      <td>58</td>\n",
       "      <td>1</td>\n",
       "      <td>60</td>\n",
       "      <td>154</td>\n",
       "      <td>10/27/2019 16:36</td>\n",
       "      <td>NaN</td>\n",
       "    </tr>\n",
       "    <tr>\n",
       "      <th>3</th>\n",
       "      <td>m</td>\n",
       "      <td>raorr108</td>\n",
       "      <td>Rahul Rao</td>\n",
       "      <td>Freelance journalist, science writer, and some...</td>\n",
       "      <td>14</td>\n",
       "      <td>59</td>\n",
       "      <td>3</td>\n",
       "      <td>4</td>\n",
       "      <td>40</td>\n",
       "      <td>10/22/2019 14:53</td>\n",
       "      <td>NYC</td>\n",
       "    </tr>\n",
       "    <tr>\n",
       "      <th>4</th>\n",
       "      <td>f</td>\n",
       "      <td>Anu__Dave</td>\n",
       "      <td>Anu</td>\n",
       "      <td>Science and technology writer | #sherp38 @nyun...</td>\n",
       "      <td>210</td>\n",
       "      <td>258</td>\n",
       "      <td>2</td>\n",
       "      <td>51</td>\n",
       "      <td>332</td>\n",
       "      <td>10/6/2019 17:55</td>\n",
       "      <td>NYC via Canada \\xf0\\x9f\\x87\\xa8\\xf0\\x9f\\x87\\xa6</td>\n",
       "    </tr>\n",
       "  </tbody>\n",
       "</table>\n",
       "</div>"
      ],
      "text/plain": [
       "  gender             name     display_name  \\\n",
       "0      f    BijalPTrivedi  Bijal P Trivedi   \n",
       "1      m     AbeMusselman    Abe Musselman   \n",
       "2      f  casey_crownhart  Casey Crownhart   \n",
       "3      m         raorr108        Rahul Rao   \n",
       "4      f        Anu__Dave              Anu   \n",
       "\n",
       "                                                 bio  favorites_count  \\\n",
       "0  Science journalist, author of Breath from Salt...                0   \n",
       "1  Science writer and science reader. SHERP 39. H...              180   \n",
       "2  Reader, writer, plant mom \\xf0\\x9f\\x8c\\xb1 SHE...              169   \n",
       "3  Freelance journalist, science writer, and some...               14   \n",
       "4  Science and technology writer | #sherp38 @nyun...              210   \n",
       "\n",
       "   followers_count  list_memberships  tweets_retweets_count  following_count  \\\n",
       "0                7                 1                      1                5   \n",
       "1               34                 1                     23               83   \n",
       "2               58                 1                     60              154   \n",
       "3               59                 3                      4               40   \n",
       "4              258                 2                     51              332   \n",
       "\n",
       "       acct_created                                         location  \n",
       "0    9/8/2020 21:43                                    Washington DC  \n",
       "1    3/9/2020 23:00                                              NaN  \n",
       "2  10/27/2019 16:36                                              NaN  \n",
       "3  10/22/2019 14:53                                              NYC  \n",
       "4   10/6/2019 17:55  NYC via Canada \\xf0\\x9f\\x87\\xa8\\xf0\\x9f\\x87\\xa6  "
      ]
     },
     "execution_count": 4,
     "metadata": {},
     "output_type": "execute_result"
    }
   ],
   "source": [
    "df.head()"
   ]
  },
  {
   "cell_type": "code",
   "execution_count": 5,
   "metadata": {},
   "outputs": [
    {
     "data": {
      "text/html": [
       "<div>\n",
       "<style scoped>\n",
       "    .dataframe tbody tr th:only-of-type {\n",
       "        vertical-align: middle;\n",
       "    }\n",
       "\n",
       "    .dataframe tbody tr th {\n",
       "        vertical-align: top;\n",
       "    }\n",
       "\n",
       "    .dataframe thead th {\n",
       "        text-align: right;\n",
       "    }\n",
       "</style>\n",
       "<table border=\"1\" class=\"dataframe\">\n",
       "  <thead>\n",
       "    <tr style=\"text-align: right;\">\n",
       "      <th></th>\n",
       "      <th>favorites_count</th>\n",
       "      <th>followers_count</th>\n",
       "      <th>list_memberships</th>\n",
       "      <th>tweets_retweets_count</th>\n",
       "      <th>following_count</th>\n",
       "    </tr>\n",
       "    <tr>\n",
       "      <th>gender</th>\n",
       "      <th></th>\n",
       "      <th></th>\n",
       "      <th></th>\n",
       "      <th></th>\n",
       "      <th></th>\n",
       "    </tr>\n",
       "  </thead>\n",
       "  <tbody>\n",
       "    <tr>\n",
       "      <th>f</th>\n",
       "      <td>1091246</td>\n",
       "      <td>482414</td>\n",
       "      <td>20193</td>\n",
       "      <td>592624</td>\n",
       "      <td>202900</td>\n",
       "    </tr>\n",
       "    <tr>\n",
       "      <th>m</th>\n",
       "      <td>457253</td>\n",
       "      <td>266106</td>\n",
       "      <td>11958</td>\n",
       "      <td>405524</td>\n",
       "      <td>71667</td>\n",
       "    </tr>\n",
       "  </tbody>\n",
       "</table>\n",
       "</div>"
      ],
      "text/plain": [
       "        favorites_count  followers_count  list_memberships  \\\n",
       "gender                                                       \n",
       "f               1091246           482414             20193   \n",
       "m                457253           266106             11958   \n",
       "\n",
       "        tweets_retweets_count  following_count  \n",
       "gender                                          \n",
       "f                      592624           202900  \n",
       "m                      405524            71667  "
      ]
     },
     "execution_count": 5,
     "metadata": {},
     "output_type": "execute_result"
    }
   ],
   "source": [
    "df.groupby('gender').sum()"
   ]
  },
  {
   "cell_type": "code",
   "execution_count": 6,
   "metadata": {},
   "outputs": [
    {
     "data": {
      "text/html": [
       "<div>\n",
       "<style scoped>\n",
       "    .dataframe tbody tr th:only-of-type {\n",
       "        vertical-align: middle;\n",
       "    }\n",
       "\n",
       "    .dataframe tbody tr th {\n",
       "        vertical-align: top;\n",
       "    }\n",
       "\n",
       "    .dataframe thead th {\n",
       "        text-align: right;\n",
       "    }\n",
       "</style>\n",
       "<table border=\"1\" class=\"dataframe\">\n",
       "  <thead>\n",
       "    <tr style=\"text-align: right;\">\n",
       "      <th></th>\n",
       "      <th>name</th>\n",
       "      <th>display_name</th>\n",
       "      <th>bio</th>\n",
       "      <th>favorites_count</th>\n",
       "      <th>followers_count</th>\n",
       "      <th>list_memberships</th>\n",
       "      <th>tweets_retweets_count</th>\n",
       "      <th>following_count</th>\n",
       "      <th>acct_created</th>\n",
       "      <th>location</th>\n",
       "    </tr>\n",
       "    <tr>\n",
       "      <th>gender</th>\n",
       "      <th></th>\n",
       "      <th></th>\n",
       "      <th></th>\n",
       "      <th></th>\n",
       "      <th></th>\n",
       "      <th></th>\n",
       "      <th></th>\n",
       "      <th></th>\n",
       "      <th></th>\n",
       "      <th></th>\n",
       "    </tr>\n",
       "  </thead>\n",
       "  <tbody>\n",
       "    <tr>\n",
       "      <th>f</th>\n",
       "      <td>188</td>\n",
       "      <td>188</td>\n",
       "      <td>182</td>\n",
       "      <td>188</td>\n",
       "      <td>188</td>\n",
       "      <td>188</td>\n",
       "      <td>188</td>\n",
       "      <td>188</td>\n",
       "      <td>188</td>\n",
       "      <td>156</td>\n",
       "    </tr>\n",
       "    <tr>\n",
       "      <th>m</th>\n",
       "      <td>72</td>\n",
       "      <td>72</td>\n",
       "      <td>68</td>\n",
       "      <td>72</td>\n",
       "      <td>72</td>\n",
       "      <td>72</td>\n",
       "      <td>72</td>\n",
       "      <td>72</td>\n",
       "      <td>72</td>\n",
       "      <td>62</td>\n",
       "    </tr>\n",
       "  </tbody>\n",
       "</table>\n",
       "</div>"
      ],
      "text/plain": [
       "        name  display_name  bio  favorites_count  followers_count  \\\n",
       "gender                                                              \n",
       "f        188           188  182              188              188   \n",
       "m         72            72   68               72               72   \n",
       "\n",
       "        list_memberships  tweets_retweets_count  following_count  \\\n",
       "gender                                                             \n",
       "f                    188                    188              188   \n",
       "m                     72                     72               72   \n",
       "\n",
       "        acct_created  location  \n",
       "gender                          \n",
       "f                188       156  \n",
       "m                 72        62  "
      ]
     },
     "execution_count": 6,
     "metadata": {},
     "output_type": "execute_result"
    }
   ],
   "source": [
    "df.groupby('gender').count()"
   ]
  },
  {
   "cell_type": "code",
   "execution_count": 7,
   "metadata": {},
   "outputs": [
    {
     "data": {
      "text/plain": [
       "<matplotlib.axes._subplots.AxesSubplot at 0x1559f4e9f88>"
      ]
     },
     "execution_count": 7,
     "metadata": {},
     "output_type": "execute_result"
    },
    {
     "data": {
      "image/png": "[encoded data removed]",
      "text/plain": [
       "<Figure size 432x288 with 1 Axes>"
      ]
     },
     "metadata": {},
     "output_type": "display_data"
    }
   ],
   "source": [
    "sns.scatterplot(x=\"following_count\", y=\"followers_count\",\n",
    "                hue=\"gender\",\n",
    "                sizes=(1, 8), linewidth=0,\n",
    "                data=df)"
   ]
  },
  {
   "cell_type": "markdown",
   "metadata": {},
   "source": [
    "There is an outlier...a male has more than 250,000. Who is that?"
   ]
  },
  {
   "cell_type": "code",
   "execution_count": 9,
   "metadata": {},
   "outputs": [
    {
     "data": {
      "text/plain": [
       "<matplotlib.axes._subplots.AxesSubplot at 0x1559fd74c88>"
      ]
     },
     "execution_count": 9,
     "metadata": {},
     "output_type": "execute_result"
    },
    {
     "data": {
      "image/png": "[encoded data removed]",
      "text/plain": [
       "<Figure size 432x288 with 1 Axes>"
      ]
     },
     "metadata": {},
     "output_type": "display_data"
    }
   ],
   "source": [
    "sns.scatterplot(x=\"following_count\", y=\"followers_count\",\n",
    "                hue=\"gender\",\n",
    "                sizes=(1, 8), linewidth=0,\n",
    "                data=df)"
   ]
  },
  {
   "cell_type": "code",
   "execution_count": 10,
   "metadata": {},
   "outputs": [
    {
     "data": {
      "text/plain": [
       "<seaborn.axisgrid.FacetGrid at 0x1559fc70a88>"
      ]
     },
     "execution_count": 10,
     "metadata": {},
     "output_type": "execute_result"
    },
    {
     "data": {
      "image/png": "[encoded data removed]",
      "text/plain": [
       "<Figure size 408.85x360 with 1 Axes>"
      ]
     },
     "metadata": {},
     "output_type": "display_data"
    }
   ],
   "source": [
    "sns.lmplot(x=\"following_count\", y=\"followers_count\",\n",
    "                hue=\"gender\",\n",
    "                data=df)"
   ]
  },
  {
   "cell_type": "code",
   "execution_count": 37,
   "metadata": {},
   "outputs": [
    {
     "data": {
      "text/html": [
       "<div>\n",
       "<style scoped>\n",
       "    .dataframe tbody tr th:only-of-type {\n",
       "        vertical-align: middle;\n",
       "    }\n",
       "\n",
       "    .dataframe tbody tr th {\n",
       "        vertical-align: top;\n",
       "    }\n",
       "\n",
       "    .dataframe thead tr th {\n",
       "        text-align: left;\n",
       "    }\n",
       "\n",
       "    .dataframe thead tr:last-of-type th {\n",
       "        text-align: right;\n",
       "    }\n",
       "</style>\n",
       "<table border=\"1\" class=\"dataframe\">\n",
       "  <thead>\n",
       "    <tr>\n",
       "      <th></th>\n",
       "      <th colspan=\"8\" halign=\"left\">favorites_count</th>\n",
       "      <th colspan=\"2\" halign=\"left\">followers_count</th>\n",
       "      <th>...</th>\n",
       "      <th colspan=\"2\" halign=\"left\">tweets_retweets_count</th>\n",
       "      <th colspan=\"8\" halign=\"left\">following_count</th>\n",
       "    </tr>\n",
       "    <tr>\n",
       "      <th></th>\n",
       "      <th>count</th>\n",
       "      <th>mean</th>\n",
       "      <th>std</th>\n",
       "      <th>min</th>\n",
       "      <th>25%</th>\n",
       "      <th>50%</th>\n",
       "      <th>75%</th>\n",
       "      <th>max</th>\n",
       "      <th>count</th>\n",
       "      <th>mean</th>\n",
       "      <th>...</th>\n",
       "      <th>75%</th>\n",
       "      <th>max</th>\n",
       "      <th>count</th>\n",
       "      <th>mean</th>\n",
       "      <th>std</th>\n",
       "      <th>min</th>\n",
       "      <th>25%</th>\n",
       "      <th>50%</th>\n",
       "      <th>75%</th>\n",
       "      <th>max</th>\n",
       "    </tr>\n",
       "    <tr>\n",
       "      <th>gender</th>\n",
       "      <th></th>\n",
       "      <th></th>\n",
       "      <th></th>\n",
       "      <th></th>\n",
       "      <th></th>\n",
       "      <th></th>\n",
       "      <th></th>\n",
       "      <th></th>\n",
       "      <th></th>\n",
       "      <th></th>\n",
       "      <th></th>\n",
       "      <th></th>\n",
       "      <th></th>\n",
       "      <th></th>\n",
       "      <th></th>\n",
       "      <th></th>\n",
       "      <th></th>\n",
       "      <th></th>\n",
       "      <th></th>\n",
       "      <th></th>\n",
       "      <th></th>\n",
       "    </tr>\n",
       "  </thead>\n",
       "  <tbody>\n",
       "    <tr>\n",
       "      <th>f</th>\n",
       "      <td>188.0</td>\n",
       "      <td>5804.500000</td>\n",
       "      <td>16232.084550</td>\n",
       "      <td>0.0</td>\n",
       "      <td>234.75</td>\n",
       "      <td>1220.5</td>\n",
       "      <td>4340.00</td>\n",
       "      <td>149293.0</td>\n",
       "      <td>188.0</td>\n",
       "      <td>2566.031915</td>\n",
       "      <td>...</td>\n",
       "      <td>3162.75</td>\n",
       "      <td>67290.0</td>\n",
       "      <td>188.0</td>\n",
       "      <td>1079.255319</td>\n",
       "      <td>1040.274906</td>\n",
       "      <td>2.0</td>\n",
       "      <td>410.25</td>\n",
       "      <td>800.5</td>\n",
       "      <td>1345.75</td>\n",
       "      <td>6008.0</td>\n",
       "    </tr>\n",
       "    <tr>\n",
       "      <th>m</th>\n",
       "      <td>72.0</td>\n",
       "      <td>6350.736111</td>\n",
       "      <td>14064.943607</td>\n",
       "      <td>0.0</td>\n",
       "      <td>113.00</td>\n",
       "      <td>720.0</td>\n",
       "      <td>5331.75</td>\n",
       "      <td>79475.0</td>\n",
       "      <td>72.0</td>\n",
       "      <td>3695.916667</td>\n",
       "      <td>...</td>\n",
       "      <td>7182.25</td>\n",
       "      <td>32818.0</td>\n",
       "      <td>72.0</td>\n",
       "      <td>995.375000</td>\n",
       "      <td>885.380708</td>\n",
       "      <td>16.0</td>\n",
       "      <td>386.25</td>\n",
       "      <td>717.0</td>\n",
       "      <td>1609.75</td>\n",
       "      <td>3690.0</td>\n",
       "    </tr>\n",
       "  </tbody>\n",
       "</table>\n",
       "<p>2 rows × 40 columns</p>\n",
       "</div>"
      ],
      "text/plain": [
       "       favorites_count                                                  \\\n",
       "                 count         mean           std  min     25%     50%   \n",
       "gender                                                                   \n",
       "f                188.0  5804.500000  16232.084550  0.0  234.75  1220.5   \n",
       "m                 72.0  6350.736111  14064.943607  0.0  113.00   720.0   \n",
       "\n",
       "                          followers_count               ...  \\\n",
       "            75%       max           count         mean  ...   \n",
       "gender                                                  ...   \n",
       "f       4340.00  149293.0           188.0  2566.031915  ...   \n",
       "m       5331.75   79475.0            72.0  3695.916667  ...   \n",
       "\n",
       "       tweets_retweets_count          following_count               \\\n",
       "                         75%      max           count         mean   \n",
       "gender                                                               \n",
       "f                    3162.75  67290.0           188.0  1079.255319   \n",
       "m                    7182.25  32818.0            72.0   995.375000   \n",
       "\n",
       "                                                           \n",
       "                std   min     25%    50%      75%     max  \n",
       "gender                                                     \n",
       "f       1040.274906   2.0  410.25  800.5  1345.75  6008.0  \n",
       "m        885.380708  16.0  386.25  717.0  1609.75  3690.0  \n",
       "\n",
       "[2 rows x 40 columns]"
      ]
     },
     "execution_count": 37,
     "metadata": {},
     "output_type": "execute_result"
    }
   ],
   "source": [
    "df_minus_full.groupby('gender').describe()"
   ]
  }
 ],
 "metadata": {
  "kernelspec": {
   "display_name": "Python 3",
   "language": "python",
   "name": "python3"
  },
  "language_info": {
   "codemirror_mode": {
    "name": "ipython",
    "version": 3
   },
   "file_extension": ".py",
   "mimetype": "text/x-python",
   "name": "python",
   "nbconvert_exporter": "python",
   "pygments_lexer": "ipython3",
   "version": "3.7.6"
  }
 },
 "nbformat": 4,
 "nbformat_minor": 4
}
