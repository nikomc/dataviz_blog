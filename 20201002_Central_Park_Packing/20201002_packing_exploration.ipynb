{
 "cells": [
  {
   "cell_type": "code",
   "execution_count": 1,
   "metadata": {},
   "outputs": [],
   "source": [
    "import numpy as np\n",
    "import pandas as pd\n",
    "\n",
    "import seaborn as sns"
   ]
  },
  {
   "cell_type": "markdown",
   "metadata": {},
   "source": [
    "## Notebook Details\n",
    "\n",
    "This is a notebook for a ScienceLine data blog. I began this work on October 2, 2020. The central theme, for this blog, is: How many New Yorkers, spread six feet apart, could be stacked into Central Park? It must account for \"empty\" space present when packing circles into squares/rectangles. [See this news item from Science magazine](https://www.sciencemag.org/news/2000/03/random-packing-puts-mathematics-box#:~:text=In%201998%2C%20mathematicians%20proved%20that,the%20pile%20is%20empty%20space.) on this subject.\n",
    "\n",
    "Assuming that _not_ all New Yorkers will be able to fit in Central Park, how high would we have to build to fit them, assuming we are not stacking in three dimensional spheres? What is the average density, in terms of people per area, in the five different boroughs?\n",
    "\n",
    "## Resources:\n",
    "\n",
    "[Wikipedia, Circle packing in a square](https://en.wikipedia.org/wiki/Circle_packing_in_a_square)\n",
    "\n",
    "[Science Magazine, Random Packing Puts Mathematics in a Box](https://www.sciencemag.org/news/2000/03/random-packing-puts-mathematics-box#:~:text=In%201998%2C%20mathematicians%20proved%20that,the%20pile%20is%20empty%20space.)\n",
    "\n",
    "[Wikipedia, Dimensions of Central Park](https://en.wikipedia.org/wiki/Central_Park)"
   ]
  },
  {
   "cell_type": "markdown",
   "metadata": {},
   "source": [
    "Central Park \"measures 2.5 miles (4.0 km) from north to south and 0.5 miles (0.80 km) from west to east\", according to Wikipedia. That is 4000 meters by 800 meters. Assuming that each \"person\" standing in Central Park must maintain six feet from _all_ other people, the diameter of each circle is actually 12 feet, and the radius is 6 feet. \n",
    "\n",
    "A radius of 6 feet is 1.8288 meters. Let's save that as a variable."
   ]
  },
  {
   "cell_type": "code",
   "execution_count": 2,
   "metadata": {},
   "outputs": [],
   "source": [
    "radius = 1.8288"
   ]
  },
  {
   "cell_type": "code",
   "execution_count": 3,
   "metadata": {},
   "outputs": [],
   "source": [
    "diameter = radius * 2"
   ]
  },
  {
   "cell_type": "code",
   "execution_count": 5,
   "metadata": {},
   "outputs": [],
   "source": [
    "rect_height = 4000"
   ]
  },
  {
   "cell_type": "code",
   "execution_count": 6,
   "metadata": {},
   "outputs": [],
   "source": [
    "rect_width = 800"
   ]
  },
  {
   "cell_type": "code",
   "execution_count": 7,
   "metadata": {},
   "outputs": [
    {
     "data": {
      "text/plain": [
       "1093.6132983377079"
      ]
     },
     "execution_count": 7,
     "metadata": {},
     "output_type": "execute_result"
    }
   ],
   "source": [
    "rect_height / diameter"
   ]
  },
  {
   "cell_type": "markdown",
   "metadata": {},
   "source": [
    "So it looks like we could fit a bit more than 1000 people in a vertical \"column\" across Central Park. What about horizontally?"
   ]
  },
  {
   "cell_type": "code",
   "execution_count": 9,
   "metadata": {},
   "outputs": [
    {
     "data": {
      "text/plain": [
       "59.79950231505401"
      ]
     },
     "execution_count": 9,
     "metadata": {},
     "output_type": "execute_result"
    }
   ],
   "source": [
    "rect_width / diameter"
   ]
  },
  {
   "cell_type": "markdown",
   "metadata": {},
   "source": [
    "So our estimate is that about 60,000 people could fit inside of Central Park."
   ]
  },
  {
   "cell_type": "code",
   "execution_count": null,
   "metadata": {},
   "outputs": [],
   "source": []
  }
 ],
 "metadata": {
  "kernelspec": {
   "display_name": "Python 3",
   "language": "python",
   "name": "python3"
  },
  "language_info": {
   "codemirror_mode": {
    "name": "ipython",
    "version": 3
   },
   "file_extension": ".py",
   "mimetype": "text/x-python",
   "name": "python",
   "nbconvert_exporter": "python",
   "pygments_lexer": "ipython3",
   "version": "3.7.6"
  }
 },
 "nbformat": 4,
 "nbformat_minor": 4
}
